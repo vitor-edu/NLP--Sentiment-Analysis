{
  "nbformat": 4,
  "nbformat_minor": 0,
  "metadata": {
    "colab": {
      "name": "Untitled16.ipynb",
      "provenance": [],
      "collapsed_sections": [],
      "authorship_tag": "ABX9TyNmZKY2tyyYbkjI7iOslCBK",
      "include_colab_link": true
    },
    "kernelspec": {
      "name": "python3",
      "display_name": "Python 3"
    }
  },
  "cells": [
    {
      "cell_type": "markdown",
      "metadata": {
        "id": "view-in-github",
        "colab_type": "text"
      },
      "source": [
        "<a href=\"https://colab.research.google.com/github/vitor-edu/NLP--Sentiment-Analysis/blob/master/Untitled16.ipynb\" target=\"_parent\"><img src=\"https://colab.research.google.com/assets/colab-badge.svg\" alt=\"Open In Colab\"/></a>"
      ]
    },
    {
      "cell_type": "code",
      "metadata": {
        "colab": {
          "base_uri": "https://localhost:8080/"
        },
        "id": "j6FoqV795KdM",
        "outputId": "ac87dce2-a54a-4480-d64b-41ca9059e348"
      },
      "source": [
        "import re\n",
        "import pickle\n",
        "import pandas as pd\n",
        "import en_core_web_sm\n",
        "import spacy\n",
        "from collections import Counter\n",
        "from spacy.lang.en import English\n",
        "from sklearn.feature_extraction.text import CountVectorizer\n",
        "from sklearn.feature_extraction.text import TfidfVectorizer\n",
        "from sklearn.model_selection import train_test_split\n",
        "from sklearn.linear_model import LogisticRegression\n",
        "from sklearn.tree import DecisionTreeClassifier\n",
        "from sklearn.pipeline import Pipeline\n",
        "from sklearn.metrics import plot_confusion_matrix\n",
        "\n",
        "pd.options.display.max_columns = 999\n",
        "pd.options.display.max_colwidth = 999\n",
        "!python -m spacy download en_core_web_sm"
      ],
      "execution_count": 1,
      "outputs": [
        {
          "output_type": "stream",
          "text": [
            "Requirement already satisfied: en_core_web_sm==2.2.5 from https://github.com/explosion/spacy-models/releases/download/en_core_web_sm-2.2.5/en_core_web_sm-2.2.5.tar.gz#egg=en_core_web_sm==2.2.5 in /usr/local/lib/python3.6/dist-packages (2.2.5)\n",
            "Requirement already satisfied: spacy>=2.2.2 in /usr/local/lib/python3.6/dist-packages (from en_core_web_sm==2.2.5) (2.2.4)\n",
            "Requirement already satisfied: srsly<1.1.0,>=1.0.2 in /usr/local/lib/python3.6/dist-packages (from spacy>=2.2.2->en_core_web_sm==2.2.5) (1.0.5)\n",
            "Requirement already satisfied: murmurhash<1.1.0,>=0.28.0 in /usr/local/lib/python3.6/dist-packages (from spacy>=2.2.2->en_core_web_sm==2.2.5) (1.0.5)\n",
            "Requirement already satisfied: setuptools in /usr/local/lib/python3.6/dist-packages (from spacy>=2.2.2->en_core_web_sm==2.2.5) (51.1.1)\n",
            "Requirement already satisfied: requests<3.0.0,>=2.13.0 in /usr/local/lib/python3.6/dist-packages (from spacy>=2.2.2->en_core_web_sm==2.2.5) (2.23.0)\n",
            "Requirement already satisfied: cymem<2.1.0,>=2.0.2 in /usr/local/lib/python3.6/dist-packages (from spacy>=2.2.2->en_core_web_sm==2.2.5) (2.0.5)\n",
            "Requirement already satisfied: preshed<3.1.0,>=3.0.2 in /usr/local/lib/python3.6/dist-packages (from spacy>=2.2.2->en_core_web_sm==2.2.5) (3.0.5)\n",
            "Requirement already satisfied: catalogue<1.1.0,>=0.0.7 in /usr/local/lib/python3.6/dist-packages (from spacy>=2.2.2->en_core_web_sm==2.2.5) (1.0.0)\n",
            "Requirement already satisfied: numpy>=1.15.0 in /usr/local/lib/python3.6/dist-packages (from spacy>=2.2.2->en_core_web_sm==2.2.5) (1.19.5)\n",
            "Requirement already satisfied: wasabi<1.1.0,>=0.4.0 in /usr/local/lib/python3.6/dist-packages (from spacy>=2.2.2->en_core_web_sm==2.2.5) (0.8.0)\n",
            "Requirement already satisfied: blis<0.5.0,>=0.4.0 in /usr/local/lib/python3.6/dist-packages (from spacy>=2.2.2->en_core_web_sm==2.2.5) (0.4.1)\n",
            "Requirement already satisfied: thinc==7.4.0 in /usr/local/lib/python3.6/dist-packages (from spacy>=2.2.2->en_core_web_sm==2.2.5) (7.4.0)\n",
            "Requirement already satisfied: tqdm<5.0.0,>=4.38.0 in /usr/local/lib/python3.6/dist-packages (from spacy>=2.2.2->en_core_web_sm==2.2.5) (4.41.1)\n",
            "Requirement already satisfied: plac<1.2.0,>=0.9.6 in /usr/local/lib/python3.6/dist-packages (from spacy>=2.2.2->en_core_web_sm==2.2.5) (1.1.3)\n",
            "Requirement already satisfied: idna<3,>=2.5 in /usr/local/lib/python3.6/dist-packages (from requests<3.0.0,>=2.13.0->spacy>=2.2.2->en_core_web_sm==2.2.5) (2.10)\n",
            "Requirement already satisfied: urllib3!=1.25.0,!=1.25.1,<1.26,>=1.21.1 in /usr/local/lib/python3.6/dist-packages (from requests<3.0.0,>=2.13.0->spacy>=2.2.2->en_core_web_sm==2.2.5) (1.24.3)\n",
            "Requirement already satisfied: chardet<4,>=3.0.2 in /usr/local/lib/python3.6/dist-packages (from requests<3.0.0,>=2.13.0->spacy>=2.2.2->en_core_web_sm==2.2.5) (3.0.4)\n",
            "Requirement already satisfied: certifi>=2017.4.17 in /usr/local/lib/python3.6/dist-packages (from requests<3.0.0,>=2.13.0->spacy>=2.2.2->en_core_web_sm==2.2.5) (2020.12.5)\n",
            "Requirement already satisfied: importlib-metadata>=0.20; python_version < \"3.8\" in /usr/local/lib/python3.6/dist-packages (from catalogue<1.1.0,>=0.0.7->spacy>=2.2.2->en_core_web_sm==2.2.5) (3.3.0)\n",
            "Requirement already satisfied: typing-extensions>=3.6.4; python_version < \"3.8\" in /usr/local/lib/python3.6/dist-packages (from importlib-metadata>=0.20; python_version < \"3.8\"->catalogue<1.1.0,>=0.0.7->spacy>=2.2.2->en_core_web_sm==2.2.5) (3.7.4.3)\n",
            "Requirement already satisfied: zipp>=0.5 in /usr/local/lib/python3.6/dist-packages (from importlib-metadata>=0.20; python_version < \"3.8\"->catalogue<1.1.0,>=0.0.7->spacy>=2.2.2->en_core_web_sm==2.2.5) (3.4.0)\n",
            "\u001b[38;5;2m✔ Download and installation successful\u001b[0m\n",
            "You can now load the model via spacy.load('en_core_web_sm')\n"
          ],
          "name": "stdout"
        }
      ]
    },
    {
      "cell_type": "markdown",
      "metadata": {
        "id": "Ltc6vmj15w07"
      },
      "source": [
        "exercicio: Sentiment Analysis.\n",
        "\n",
        "Suponha que você é um Cientista de Dados, trabalha em um app de um restaurante e tem reviews de alguns clientes. Sua tarefa é classificar as reviews em positivas ou negativas. \n",
        "\n",
        "Os dados:\n",
        "\n",
        "Esse conjunto de dados é composto de reviews de restaurantes e foi modificado a partir do dataset usado no workshop SemEval (International Workshop on Semantic Evaluation) de 2016"
      ]
    },
    {
      "cell_type": "code",
      "metadata": {
        "colab": {
          "base_uri": "https://localhost:8080/",
          "height": 238
        },
        "id": "BXV8Y5bL6bF8",
        "outputId": "27beb863-b88b-42c8-97b8-1e3267215fb2"
      },
      "source": [
        "from google_drive_downloader import GoogleDriveDownloader as gdd\n",
        "google_id = '1yz7amRHGD4iW1NReaGfo0jHeYr8wETSx'\n",
        "gdd.download_file_from_google_drive(file_id=google_id, \n",
        "                                    dest_path = './reviews.csv', \n",
        "                                    showsize = True)\n",
        "\n",
        "data = pd.read_csv('reviews.csv')\n",
        "data.head()"
      ],
      "execution_count": 2,
      "outputs": [
        {
          "output_type": "stream",
          "text": [
            "Downloading 1yz7amRHGD4iW1NReaGfo0jHeYr8wETSx into ./reviews.csv... \n",
            "0.0 B Done.\n"
          ],
          "name": "stdout"
        },
        {
          "output_type": "execute_result",
          "data": {
            "text/html": [
              "<div>\n",
              "<style scoped>\n",
              "    .dataframe tbody tr th:only-of-type {\n",
              "        vertical-align: middle;\n",
              "    }\n",
              "\n",
              "    .dataframe tbody tr th {\n",
              "        vertical-align: top;\n",
              "    }\n",
              "\n",
              "    .dataframe thead th {\n",
              "        text-align: right;\n",
              "    }\n",
              "</style>\n",
              "<table border=\"1\" class=\"dataframe\">\n",
              "  <thead>\n",
              "    <tr style=\"text-align: right;\">\n",
              "      <th></th>\n",
              "      <th>text</th>\n",
              "      <th>polarity</th>\n",
              "    </tr>\n",
              "  </thead>\n",
              "  <tbody>\n",
              "    <tr>\n",
              "      <th>0</th>\n",
              "      <td>To be completely fair, the only redeeming factor was the food, which was above average, but couldn't make up for all the other deficiencies of Teodora.</td>\n",
              "      <td>negative</td>\n",
              "    </tr>\n",
              "    <tr>\n",
              "      <th>1</th>\n",
              "      <td>I loved it and would HIGHLY RECOMMEND.</td>\n",
              "      <td>positive</td>\n",
              "    </tr>\n",
              "    <tr>\n",
              "      <th>2</th>\n",
              "      <td>Nice job!</td>\n",
              "      <td>positive</td>\n",
              "    </tr>\n",
              "    <tr>\n",
              "      <th>3</th>\n",
              "      <td>Try the lobster teriyaki and the rose special roll.</td>\n",
              "      <td>positive</td>\n",
              "    </tr>\n",
              "    <tr>\n",
              "      <th>4</th>\n",
              "      <td>Can’t believe how an expensive NYC restaurant can be so disrespectful to its clients.</td>\n",
              "      <td>negative</td>\n",
              "    </tr>\n",
              "  </tbody>\n",
              "</table>\n",
              "</div>"
            ],
            "text/plain": [
              "                                                                                                                                                      text  \\\n",
              "0  To be completely fair, the only redeeming factor was the food, which was above average, but couldn't make up for all the other deficiencies of Teodora.   \n",
              "1                                                                                                                   I loved it and would HIGHLY RECOMMEND.   \n",
              "2                                                                                                                                                Nice job!   \n",
              "3                                                                                                      Try the lobster teriyaki and the rose special roll.   \n",
              "4                                                                    Can’t believe how an expensive NYC restaurant can be so disrespectful to its clients.   \n",
              "\n",
              "   polarity  \n",
              "0  negative  \n",
              "1  positive  \n",
              "2  positive  \n",
              "3  positive  \n",
              "4  negative  "
            ]
          },
          "metadata": {
            "tags": []
          },
          "execution_count": 2
        }
      ]
    },
    {
      "cell_type": "markdown",
      "metadata": {
        "id": "u9pjRfVp8Oo_"
      },
      "source": [
        "\n",
        "Principal biblioteca atualmente para trabalhar com NLP: *Spacy*.\n",
        "\n",
        "Outra lib bastante usada (principal biblioteca até pouco tempo atrás): [NLTK](https://www.nltk.org/).\n",
        "\n",
        "Com *Spacy*: um objeto (que geralmente chamamos de 'nlp') contém todo o pipeline de processamento, além de regras específicas da língua."
      ]
    },
    {
      "cell_type": "code",
      "metadata": {
        "id": "uF4cHLb-8UAy"
      },
      "source": [
        "nlp = English()"
      ],
      "execution_count": 3,
      "outputs": []
    },
    {
      "cell_type": "markdown",
      "metadata": {
        "id": "TQeGkBL38s4m"
      },
      "source": [
        "Regular Expressions (REGEX) & patterns\n",
        "Em alguns casos, pode ser interessante substituir certas partes em textos fixos, como horários, quantidades, emails.\n",
        "\n",
        "Exemplo:"
      ]
    },
    {
      "cell_type": "code",
      "metadata": {
        "colab": {
          "base_uri": "https://localhost:8080/",
          "height": 35
        },
        "id": "f0PUc-j481ZC",
        "outputId": "8b28c876-4575-4588-dfa8-f1338e7751f4"
      },
      "source": [
        "re.sub(u'[\\w\\.\\-]+@[\\w\\.\\-]+', 'EMAIL_ADDR', u'hi there thais.neubauer@gmail.com!',flags=re.UNICODE)\n"
      ],
      "execution_count": 4,
      "outputs": [
        {
          "output_type": "execute_result",
          "data": {
            "application/vnd.google.colaboratory.intrinsic+json": {
              "type": "string"
            },
            "text/plain": [
              "'hi there EMAIL_ADDR!'"
            ]
          },
          "metadata": {
            "tags": []
          },
          "execution_count": 4
        }
      ]
    },
    {
      "cell_type": "markdown",
      "metadata": {
        "id": "eccQYqJC9Ema"
      },
      "source": [
        "Tokenization"
      ]
    },
    {
      "cell_type": "code",
      "metadata": {
        "colab": {
          "base_uri": "https://localhost:8080/"
        },
        "id": "NCgXbAJ69Nec",
        "outputId": "d364fbbe-1f47-48ad-ed2e-854f402e49af"
      },
      "source": [
        "doc = nlp(\"We went around 9:30 on a Friday in the U.S ...\")\n",
        "tokens = [token.text for token in doc]\n",
        "tokens"
      ],
      "execution_count": 5,
      "outputs": [
        {
          "output_type": "execute_result",
          "data": {
            "text/plain": [
              "['We',\n",
              " 'went',\n",
              " 'around',\n",
              " '9:30',\n",
              " 'on',\n",
              " 'a',\n",
              " 'Friday',\n",
              " 'in',\n",
              " 'the',\n",
              " 'U.S',\n",
              " '...']"
            ]
          },
          "metadata": {
            "tags": []
          },
          "execution_count": 5
        }
      ]
    },
    {
      "cell_type": "code",
      "metadata": {
        "colab": {
          "base_uri": "https://localhost:8080/"
        },
        "id": "6ZzlDNKe9438",
        "outputId": "6a6aa281-02ed-4b31-b186-78c450127d31"
      },
      "source": [
        "doc = nlp(\"It's also attached to Angel's Share, which is a cool, more romantic bar...\")\n",
        "tokens = [token.text for token in doc]\n",
        "tokens"
      ],
      "execution_count": 6,
      "outputs": [
        {
          "output_type": "execute_result",
          "data": {
            "text/plain": [
              "['It',\n",
              " \"'s\",\n",
              " 'also',\n",
              " 'attached',\n",
              " 'to',\n",
              " 'Angel',\n",
              " \"'s\",\n",
              " 'Share',\n",
              " ',',\n",
              " 'which',\n",
              " 'is',\n",
              " 'a',\n",
              " 'cool',\n",
              " ',',\n",
              " 'more',\n",
              " 'romantic',\n",
              " 'bar',\n",
              " '...']"
            ]
          },
          "metadata": {
            "tags": []
          },
          "execution_count": 6
        }
      ]
    },
    {
      "cell_type": "markdown",
      "metadata": {
        "id": "peObJhTN-CTl"
      },
      "source": [
        "Exercício: Crie o objeto nlp para português e imprima o texto do primeiro token"
      ]
    },
    {
      "cell_type": "code",
      "metadata": {
        "colab": {
          "base_uri": "https://localhost:8080/"
        },
        "id": "IleE6_2n-ICt",
        "outputId": "4bf934e0-1d8a-48ef-f490-0d0221a3721c"
      },
      "source": [
        "# Import the Portuguese language class\n",
        "from spacy.lang.pt import Portuguese\n",
        "\n",
        "# Create the nlp object\n",
        "nlp_pt = Portuguese()\n",
        "\n",
        "# Process a text\n",
        "doc = nlp_pt(\"Isso é uma sentença\")\n",
        "\n",
        "# Select the first token\n",
        "first_token = doc[0]\n",
        "\n",
        "# Print the first token's text\n",
        "print(first_token.text)"
      ],
      "execution_count": 7,
      "outputs": [
        {
          "output_type": "stream",
          "text": [
            "Isso\n"
          ],
          "name": "stdout"
        }
      ]
    },
    {
      "cell_type": "markdown",
      "metadata": {
        "id": "EkFCpVNS-e2e"
      },
      "source": [
        "Com o código abaixo podemos fazer o download do modelo pré-treinado para português:"
      ]
    },
    {
      "cell_type": "code",
      "metadata": {
        "colab": {
          "base_uri": "https://localhost:8080/"
        },
        "id": "UwUNhlvz-gOy",
        "outputId": "b225ac58-5dd3-4155-cbfe-fa34154d3465"
      },
      "source": [
        "!python -m spacy download pt_core_news_sm"
      ],
      "execution_count": 8,
      "outputs": [
        {
          "output_type": "stream",
          "text": [
            "Collecting pt_core_news_sm==2.2.5\n",
            "\u001b[?25l  Downloading https://github.com/explosion/spacy-models/releases/download/pt_core_news_sm-2.2.5/pt_core_news_sm-2.2.5.tar.gz (21.2MB)\n",
            "\u001b[K     |████████████████████████████████| 21.2MB 1.1MB/s \n",
            "\u001b[?25hRequirement already satisfied: spacy>=2.2.2 in /usr/local/lib/python3.6/dist-packages (from pt_core_news_sm==2.2.5) (2.2.4)\n",
            "Requirement already satisfied: thinc==7.4.0 in /usr/local/lib/python3.6/dist-packages (from spacy>=2.2.2->pt_core_news_sm==2.2.5) (7.4.0)\n",
            "Requirement already satisfied: cymem<2.1.0,>=2.0.2 in /usr/local/lib/python3.6/dist-packages (from spacy>=2.2.2->pt_core_news_sm==2.2.5) (2.0.5)\n",
            "Requirement already satisfied: wasabi<1.1.0,>=0.4.0 in /usr/local/lib/python3.6/dist-packages (from spacy>=2.2.2->pt_core_news_sm==2.2.5) (0.8.0)\n",
            "Requirement already satisfied: preshed<3.1.0,>=3.0.2 in /usr/local/lib/python3.6/dist-packages (from spacy>=2.2.2->pt_core_news_sm==2.2.5) (3.0.5)\n",
            "Requirement already satisfied: requests<3.0.0,>=2.13.0 in /usr/local/lib/python3.6/dist-packages (from spacy>=2.2.2->pt_core_news_sm==2.2.5) (2.23.0)\n",
            "Requirement already satisfied: blis<0.5.0,>=0.4.0 in /usr/local/lib/python3.6/dist-packages (from spacy>=2.2.2->pt_core_news_sm==2.2.5) (0.4.1)\n",
            "Requirement already satisfied: murmurhash<1.1.0,>=0.28.0 in /usr/local/lib/python3.6/dist-packages (from spacy>=2.2.2->pt_core_news_sm==2.2.5) (1.0.5)\n",
            "Requirement already satisfied: tqdm<5.0.0,>=4.38.0 in /usr/local/lib/python3.6/dist-packages (from spacy>=2.2.2->pt_core_news_sm==2.2.5) (4.41.1)\n",
            "Requirement already satisfied: catalogue<1.1.0,>=0.0.7 in /usr/local/lib/python3.6/dist-packages (from spacy>=2.2.2->pt_core_news_sm==2.2.5) (1.0.0)\n",
            "Requirement already satisfied: numpy>=1.15.0 in /usr/local/lib/python3.6/dist-packages (from spacy>=2.2.2->pt_core_news_sm==2.2.5) (1.19.5)\n",
            "Requirement already satisfied: plac<1.2.0,>=0.9.6 in /usr/local/lib/python3.6/dist-packages (from spacy>=2.2.2->pt_core_news_sm==2.2.5) (1.1.3)\n",
            "Requirement already satisfied: srsly<1.1.0,>=1.0.2 in /usr/local/lib/python3.6/dist-packages (from spacy>=2.2.2->pt_core_news_sm==2.2.5) (1.0.5)\n",
            "Requirement already satisfied: setuptools in /usr/local/lib/python3.6/dist-packages (from spacy>=2.2.2->pt_core_news_sm==2.2.5) (51.1.1)\n",
            "Requirement already satisfied: certifi>=2017.4.17 in /usr/local/lib/python3.6/dist-packages (from requests<3.0.0,>=2.13.0->spacy>=2.2.2->pt_core_news_sm==2.2.5) (2020.12.5)\n",
            "Requirement already satisfied: idna<3,>=2.5 in /usr/local/lib/python3.6/dist-packages (from requests<3.0.0,>=2.13.0->spacy>=2.2.2->pt_core_news_sm==2.2.5) (2.10)\n",
            "Requirement already satisfied: urllib3!=1.25.0,!=1.25.1,<1.26,>=1.21.1 in /usr/local/lib/python3.6/dist-packages (from requests<3.0.0,>=2.13.0->spacy>=2.2.2->pt_core_news_sm==2.2.5) (1.24.3)\n",
            "Requirement already satisfied: chardet<4,>=3.0.2 in /usr/local/lib/python3.6/dist-packages (from requests<3.0.0,>=2.13.0->spacy>=2.2.2->pt_core_news_sm==2.2.5) (3.0.4)\n",
            "Requirement already satisfied: importlib-metadata>=0.20; python_version < \"3.8\" in /usr/local/lib/python3.6/dist-packages (from catalogue<1.1.0,>=0.0.7->spacy>=2.2.2->pt_core_news_sm==2.2.5) (3.3.0)\n",
            "Requirement already satisfied: zipp>=0.5 in /usr/local/lib/python3.6/dist-packages (from importlib-metadata>=0.20; python_version < \"3.8\"->catalogue<1.1.0,>=0.0.7->spacy>=2.2.2->pt_core_news_sm==2.2.5) (3.4.0)\n",
            "Requirement already satisfied: typing-extensions>=3.6.4; python_version < \"3.8\" in /usr/local/lib/python3.6/dist-packages (from importlib-metadata>=0.20; python_version < \"3.8\"->catalogue<1.1.0,>=0.0.7->spacy>=2.2.2->pt_core_news_sm==2.2.5) (3.7.4.3)\n",
            "Building wheels for collected packages: pt-core-news-sm\n",
            "  Building wheel for pt-core-news-sm (setup.py) ... \u001b[?25l\u001b[?25hdone\n",
            "  Created wheel for pt-core-news-sm: filename=pt_core_news_sm-2.2.5-cp36-none-any.whl size=21186283 sha256=c055774baddc4808c5a87f260ad01a76626108222dfee1a9c6f2cae85a3421e3\n",
            "  Stored in directory: /tmp/pip-ephem-wheel-cache-6y8qdzxu/wheels/ea/94/74/ec9be8418e9231b471be5dc7e1b45dd670019a376a6b5bc1c0\n",
            "Successfully built pt-core-news-sm\n",
            "Installing collected packages: pt-core-news-sm\n",
            "Successfully installed pt-core-news-sm-2.2.5\n",
            "\u001b[38;5;2m✔ Download and installation successful\u001b[0m\n",
            "You can now load the model via spacy.load('pt_core_news_sm')\n"
          ],
          "name": "stdout"
        }
      ]
    },
    {
      "cell_type": "code",
      "metadata": {
        "id": "onIMnUN9-wo3"
      },
      "source": [
        "import pt_core_news_sm\n",
        "nlp_pt = pt_core_news_sm.load()"
      ],
      "execution_count": 9,
      "outputs": []
    },
    {
      "cell_type": "markdown",
      "metadata": {
        "id": "qWrqxgUZ-8zK"
      },
      "source": [
        "Pré-processamento"
      ]
    },
    {
      "cell_type": "markdown",
      "metadata": {
        "id": "nFApUEeS_E3j"
      },
      "source": [
        "Removing stopwords (and maybe other tokens)\n",
        "remoção de stopwords"
      ]
    },
    {
      "cell_type": "code",
      "metadata": {
        "colab": {
          "base_uri": "https://localhost:8080/"
        },
        "id": "9VV0sOKx_Mw1",
        "outputId": "205cf00a-0a40-45a4-9075-a1afdd56438c"
      },
      "source": [
        "#from collections import Counter\n",
        "#splita as frases por palavras (espaco incluido) e soma elas\n",
        "(Counter(sum(data['text'].str.lower()\n",
        "                            .str.split(r'[\\W\\s]+').tolist(), [])))"
      ],
      "execution_count": 10,
      "outputs": [
        {
          "output_type": "execute_result",
          "data": {
            "text/plain": [
              "Counter({'': 78,\n",
              "         '14': 1,\n",
              "         '1st': 1,\n",
              "         '33': 1,\n",
              "         'a': 21,\n",
              "         'above': 2,\n",
              "         'ackward': 1,\n",
              "         'add': 1,\n",
              "         'advanatage': 1,\n",
              "         'after': 1,\n",
              "         'again': 5,\n",
              "         'all': 5,\n",
              "         'alot': 1,\n",
              "         'already': 1,\n",
              "         'also': 2,\n",
              "         'although': 1,\n",
              "         'am': 1,\n",
              "         'an': 3,\n",
              "         'and': 21,\n",
              "         'another': 1,\n",
              "         'any': 2,\n",
              "         'anything': 1,\n",
              "         'appetizer': 1,\n",
              "         'are': 5,\n",
              "         'area': 1,\n",
              "         'as': 3,\n",
              "         'ask': 3,\n",
              "         'at': 3,\n",
              "         'attitude': 2,\n",
              "         'authentic': 1,\n",
              "         'ave': 1,\n",
              "         'average': 2,\n",
              "         'back': 9,\n",
              "         'bad': 1,\n",
              "         'based': 1,\n",
              "         'bathroom': 1,\n",
              "         'be': 7,\n",
              "         'because': 1,\n",
              "         'before': 1,\n",
              "         'believe': 1,\n",
              "         'bella': 1,\n",
              "         'best': 1,\n",
              "         'better': 3,\n",
              "         'big': 1,\n",
              "         'bigger': 1,\n",
              "         'bite': 1,\n",
              "         'blond': 1,\n",
              "         'bloody': 1,\n",
              "         'bloom': 1,\n",
              "         'boths': 1,\n",
              "         'brooklyn': 1,\n",
              "         'but': 8,\n",
              "         'by': 2,\n",
              "         'cafe': 1,\n",
              "         'call': 1,\n",
              "         'can': 7,\n",
              "         'cannot': 1,\n",
              "         'casino': 1,\n",
              "         'cellphone': 2,\n",
              "         'chance': 1,\n",
              "         'cheap': 1,\n",
              "         'cheese': 1,\n",
              "         'ciao': 1,\n",
              "         'claim': 1,\n",
              "         'clients': 1,\n",
              "         'close': 1,\n",
              "         'comeback': 1,\n",
              "         'completely': 1,\n",
              "         'considering': 1,\n",
              "         'cooking': 1,\n",
              "         'couldn': 1,\n",
              "         'd': 2,\n",
              "         'date': 1,\n",
              "         'deal': 1,\n",
              "         'decor': 3,\n",
              "         'deficiencies': 1,\n",
              "         'definitely': 4,\n",
              "         'delicious': 2,\n",
              "         'dessert': 1,\n",
              "         'didn': 2,\n",
              "         'die': 1,\n",
              "         'difficult': 1,\n",
              "         'dine': 1,\n",
              "         'dining': 1,\n",
              "         'dinner': 2,\n",
              "         'disapointed': 1,\n",
              "         'disgusting': 1,\n",
              "         'disrespectful': 1,\n",
              "         'do': 3,\n",
              "         'doesn': 1,\n",
              "         'don': 2,\n",
              "         'done': 1,\n",
              "         'dough': 1,\n",
              "         'drink': 1,\n",
              "         'drinks': 1,\n",
              "         'dry': 1,\n",
              "         'eat': 2,\n",
              "         'eating': 1,\n",
              "         'eatting': 1,\n",
              "         'else': 2,\n",
              "         'elsewhere': 1,\n",
              "         'especially': 1,\n",
              "         'european': 1,\n",
              "         'even': 1,\n",
              "         'event': 1,\n",
              "         'every': 1,\n",
              "         'excellent': 1,\n",
              "         'expensive': 1,\n",
              "         'experience': 1,\n",
              "         'extremely': 1,\n",
              "         'eye': 2,\n",
              "         'factor': 1,\n",
              "         'fair': 1,\n",
              "         'farro': 1,\n",
              "         'feel': 1,\n",
              "         'felt': 1,\n",
              "         'find': 2,\n",
              "         'fine': 1,\n",
              "         'finish': 1,\n",
              "         'first': 1,\n",
              "         'food': 5,\n",
              "         'for': 15,\n",
              "         'forgotten': 1,\n",
              "         'freindly': 2,\n",
              "         'from': 2,\n",
              "         'fun': 1,\n",
              "         'gem': 1,\n",
              "         'get': 1,\n",
              "         'girls': 1,\n",
              "         'give': 1,\n",
              "         'glad': 1,\n",
              "         'go': 11,\n",
              "         'going': 1,\n",
              "         'good': 7,\n",
              "         'greasy': 1,\n",
              "         'great': 10,\n",
              "         'grill': 1,\n",
              "         'guests': 1,\n",
              "         'had': 1,\n",
              "         'half': 1,\n",
              "         'hall': 1,\n",
              "         'hang': 1,\n",
              "         'happening': 1,\n",
              "         'have': 4,\n",
              "         'having': 1,\n",
              "         'help': 1,\n",
              "         'here': 2,\n",
              "         'highly': 5,\n",
              "         'hits': 2,\n",
              "         'home': 1,\n",
              "         'hoops': 1,\n",
              "         'how': 2,\n",
              "         'however': 1,\n",
              "         'i': 26,\n",
              "         'if': 3,\n",
              "         'in': 8,\n",
              "         'indian': 2,\n",
              "         'interesting': 1,\n",
              "         'intimate': 1,\n",
              "         'introduced': 1,\n",
              "         'inventive': 1,\n",
              "         'is': 17,\n",
              "         'it': 24,\n",
              "         'its': 1,\n",
              "         'japanese': 1,\n",
              "         'job': 1,\n",
              "         'jump': 1,\n",
              "         'jumper': 1,\n",
              "         'just': 4,\n",
              "         'kind': 1,\n",
              "         'know': 2,\n",
              "         'la': 1,\n",
              "         'last': 1,\n",
              "         'le': 1,\n",
              "         'less': 1,\n",
              "         'like': 3,\n",
              "         'list': 1,\n",
              "         'little': 3,\n",
              "         'll': 4,\n",
              "         'lobster': 1,\n",
              "         'location': 1,\n",
              "         'loved': 1,\n",
              "         'lovely': 1,\n",
              "         'm': 2,\n",
              "         'made': 1,\n",
              "         'make': 6,\n",
              "         'many': 3,\n",
              "         'mary': 1,\n",
              "         'mashed': 1,\n",
              "         'may': 1,\n",
              "         'maybe': 1,\n",
              "         'me': 4,\n",
              "         'mean': 2,\n",
              "         'menu': 1,\n",
              "         'mid': 1,\n",
              "         'mimi': 1,\n",
              "         'mizu': 1,\n",
              "         'moms': 1,\n",
              "         'more': 2,\n",
              "         'morning': 1,\n",
              "         'much': 4,\n",
              "         'mw': 1,\n",
              "         'my': 4,\n",
              "         'never': 2,\n",
              "         'next': 6,\n",
              "         'nice': 3,\n",
              "         'nicest': 1,\n",
              "         'night': 1,\n",
              "         'no': 2,\n",
              "         'nonetheless': 1,\n",
              "         'not': 9,\n",
              "         'noticed': 1,\n",
              "         'now': 1,\n",
              "         'numbers': 1,\n",
              "         'ny': 1,\n",
              "         'nyc': 1,\n",
              "         'occasion': 1,\n",
              "         'of': 9,\n",
              "         'off': 1,\n",
              "         'offering': 1,\n",
              "         'often': 1,\n",
              "         'oh': 1,\n",
              "         'oil': 1,\n",
              "         'on': 5,\n",
              "         'once': 3,\n",
              "         'only': 1,\n",
              "         'or': 5,\n",
              "         'order': 1,\n",
              "         'original': 1,\n",
              "         'other': 6,\n",
              "         'our': 1,\n",
              "         'out': 2,\n",
              "         'overall': 1,\n",
              "         'overpriced': 1,\n",
              "         'pancake': 1,\n",
              "         'part': 1,\n",
              "         'pastrami': 1,\n",
              "         'peep': 1,\n",
              "         'people': 2,\n",
              "         'perfect': 1,\n",
              "         'piece': 1,\n",
              "         'pizza': 1,\n",
              "         'place': 11,\n",
              "         'places': 1,\n",
              "         'pleasing': 1,\n",
              "         'positives': 1,\n",
              "         'possible': 1,\n",
              "         'potatoes': 1,\n",
              "         'pound': 1,\n",
              "         'premium': 1,\n",
              "         'price': 1,\n",
              "         'prices': 1,\n",
              "         'pricey': 1,\n",
              "         'private': 1,\n",
              "         'probably': 1,\n",
              "         'problem': 1,\n",
              "         'provided': 2,\n",
              "         'provides': 1,\n",
              "         'quality': 1,\n",
              "         'questions': 1,\n",
              "         'rare': 1,\n",
              "         'rate': 1,\n",
              "         're': 1,\n",
              "         'really': 3,\n",
              "         'receive': 1,\n",
              "         'recomend': 1,\n",
              "         'recommend': 5,\n",
              "         'recommended': 1,\n",
              "         'red': 1,\n",
              "         'redeeming': 1,\n",
              "         'regular': 1,\n",
              "         'relaxing': 1,\n",
              "         'repeat': 1,\n",
              "         'reservation': 1,\n",
              "         'restaurant': 3,\n",
              "         'restaurants': 3,\n",
              "         'return': 1,\n",
              "         'review': 1,\n",
              "         'right': 1,\n",
              "         'roll': 1,\n",
              "         'rose': 1,\n",
              "         's': 5,\n",
              "         'sake': 2,\n",
              "         'salad': 1,\n",
              "         'saturday': 1,\n",
              "         'sauce': 1,\n",
              "         'seem': 1,\n",
              "         'selection': 2,\n",
              "         'semi': 1,\n",
              "         'service': 5,\n",
              "         'setting': 1,\n",
              "         'several': 1,\n",
              "         'side': 1,\n",
              "         'sign': 1,\n",
              "         'sit': 1,\n",
              "         'sitting': 1,\n",
              "         'skip': 1,\n",
              "         'slightly': 1,\n",
              "         'snooze': 1,\n",
              "         'snotty': 1,\n",
              "         'so': 5,\n",
              "         'some': 1,\n",
              "         'somewhere': 2,\n",
              "         'soothing': 1,\n",
              "         'special': 2,\n",
              "         'spot': 4,\n",
              "         'staff': 1,\n",
              "         'stop': 1,\n",
              "         'store': 1,\n",
              "         'straight': 1,\n",
              "         'sunday': 1,\n",
              "         'sure': 3,\n",
              "         'survice': 1,\n",
              "         'sushi': 1,\n",
              "         't': 11,\n",
              "         'take': 3,\n",
              "         'tartar': 1,\n",
              "         'taste': 1,\n",
              "         'tasty': 1,\n",
              "         'teodora': 1,\n",
              "         'teriyaki': 1,\n",
              "         'thai': 1,\n",
              "         'thanks': 1,\n",
              "         'that': 5,\n",
              "         'the': 38,\n",
              "         'their': 1,\n",
              "         'there': 5,\n",
              "         'they': 8,\n",
              "         'thing': 1,\n",
              "         'things': 1,\n",
              "         'this': 10,\n",
              "         'through': 1,\n",
              "         'thumbs': 1,\n",
              "         'till': 1,\n",
              "         'time': 5,\n",
              "         'to': 20,\n",
              "         'together': 1,\n",
              "         'too': 5,\n",
              "         'took': 1,\n",
              "         'town': 5,\n",
              "         'trip': 1,\n",
              "         'try': 3,\n",
              "         'tuna': 1,\n",
              "         'typical': 1,\n",
              "         'up': 4,\n",
              "         've': 2,\n",
              "         'very': 3,\n",
              "         'vibrant': 1,\n",
              "         'view': 1,\n",
              "         'visit': 3,\n",
              "         'visiting': 2,\n",
              "         'wait': 5,\n",
              "         'waiters': 1,\n",
              "         'want': 1,\n",
              "         'warning': 1,\n",
              "         'was': 8,\n",
              "         'water': 1,\n",
              "         'we': 4,\n",
              "         'well': 1,\n",
              "         'went': 2,\n",
              "         'were': 2,\n",
              "         'what': 4,\n",
              "         'when': 4,\n",
              "         'which': 3,\n",
              "         'will': 7,\n",
              "         'wine': 1,\n",
              "         'wines': 1,\n",
              "         'wish': 1,\n",
              "         'with': 1,\n",
              "         'without': 1,\n",
              "         'wood': 1,\n",
              "         'worth': 6,\n",
              "         'would': 6,\n",
              "         'wouldn': 2,\n",
              "         'write': 2,\n",
              "         'wrong': 1,\n",
              "         'yeah': 1,\n",
              "         'year': 1,\n",
              "         'years': 1,\n",
              "         'you': 18,\n",
              "         'your': 2,\n",
              "         'yukon': 1})"
            ]
          },
          "metadata": {
            "tags": []
          },
          "execution_count": 10
        }
      ]
    },
    {
      "cell_type": "markdown",
      "metadata": {
        "id": "1mQwYbAv_aRA"
      },
      "source": [
        "O que essa regex está fazendo é basicamente convertendo todo o texto para minúsculo e depois 'splitando' em tokens sempre que o texto encontra um caracter em brando (\\s) ou sempre que encontra um caracter que não é alfanumérico ([^a-zA-Z0-9]), representado pelo \\W\n",
        "\n",
        "Depois, ela pega as 10 ocorrências mais comumns."
      ]
    },
    {
      "cell_type": "markdown",
      "metadata": {
        "id": "qw2WivOn_ihK"
      },
      "source": [
        "No spacy já existe uma lista de stopwords comuns, que podemos ver assim:"
      ]
    },
    {
      "cell_type": "code",
      "metadata": {
        "colab": {
          "base_uri": "https://localhost:8080/"
        },
        "id": "RZ2ZP8Gk_mj7",
        "outputId": "b2c91f44-7289-48d2-9027-ea32aef518f4"
      },
      "source": [
        "nlp = spacy.load('en_core_web_sm')\n",
        "\n",
        "en_stopwords = sorted([token.text for token in nlp.vocab if token.is_stop])\n",
        "en_stopwords"
      ],
      "execution_count": 11,
      "outputs": [
        {
          "output_type": "execute_result",
          "data": {
            "text/plain": [
              "[\"'S\",\n",
              " \"'d\",\n",
              " \"'ll\",\n",
              " \"'m\",\n",
              " \"'re\",\n",
              " \"'s\",\n",
              " \"'ve\",\n",
              " 'Are',\n",
              " 'Ca',\n",
              " 'Can',\n",
              " 'Could',\n",
              " 'Did',\n",
              " 'Do',\n",
              " 'Does',\n",
              " 'Had',\n",
              " 'Has',\n",
              " 'Have',\n",
              " 'He',\n",
              " 'How',\n",
              " 'I',\n",
              " 'Is',\n",
              " 'It',\n",
              " 'May',\n",
              " 'Might',\n",
              " 'Must',\n",
              " 'Not',\n",
              " 'She',\n",
              " 'Should',\n",
              " 'That',\n",
              " 'There',\n",
              " 'They',\n",
              " 'Was',\n",
              " 'We',\n",
              " 'Were',\n",
              " 'What',\n",
              " 'When',\n",
              " 'Where',\n",
              " 'Who',\n",
              " 'Why',\n",
              " 'Would',\n",
              " 'You',\n",
              " 'a',\n",
              " 'all',\n",
              " 'am',\n",
              " 'are',\n",
              " 'ca',\n",
              " 'can',\n",
              " 'could',\n",
              " 'did',\n",
              " 'do',\n",
              " 'does',\n",
              " 'had',\n",
              " 'has',\n",
              " 'have',\n",
              " 'he',\n",
              " 'how',\n",
              " 'i',\n",
              " 'is',\n",
              " 'it',\n",
              " 'may',\n",
              " 'might',\n",
              " 'must',\n",
              " \"n't\",\n",
              " 'not',\n",
              " 'n’t',\n",
              " 're',\n",
              " 'she',\n",
              " 'should',\n",
              " 'that',\n",
              " 'there',\n",
              " 'they',\n",
              " 'was',\n",
              " 'we',\n",
              " 'were',\n",
              " 'what',\n",
              " 'when',\n",
              " 'where',\n",
              " 'who',\n",
              " 'why',\n",
              " 'would',\n",
              " 'you',\n",
              " '‘S',\n",
              " '‘s',\n",
              " '’S',\n",
              " '’d',\n",
              " '’ll',\n",
              " '’m',\n",
              " '’re',\n",
              " '’s',\n",
              " '’ve']"
            ]
          },
          "metadata": {
            "tags": []
          },
          "execution_count": 11
        }
      ]
    },
    {
      "cell_type": "markdown",
      "metadata": {
        "id": "wbMr3rL0_xC5"
      },
      "source": [
        "Exercício: Explore um pouco a lista e analise as que você acha que podem ser excluídas da lista de stopwords."
      ]
    },
    {
      "cell_type": "code",
      "metadata": {
        "id": "fF-m8wfD_19e"
      },
      "source": [
        "list_excl = ['cannot', \"can't\", 'go', 'off', 'not', 'no', \"n't\", \"might\", \"must\", \"may\", \"should\"]\n",
        "\n",
        "for w in list_excl:\n",
        "    nlp.vocab[w].is_stop = False\n",
        "\n",
        "#list_incl = [\"palavras que voce queira INCLUIR na lista de stopwords\"]\n",
        "\n",
        "#for w in list_incl:\n",
        "    #nlp.vocab[w].is_stop = True"
      ],
      "execution_count": 13,
      "outputs": []
    },
    {
      "cell_type": "code",
      "metadata": {
        "colab": {
          "base_uri": "https://localhost:8080/",
          "height": 35
        },
        "id": "gKG9vZAa__wd",
        "outputId": "cb96fb31-23f1-4ad8-d7bd-f87c80a20810"
      },
      "source": [
        "' -- '.join([w for w in en_stopwords if not nlp.vocab[w].is_stop])"
      ],
      "execution_count": 14,
      "outputs": [
        {
          "output_type": "execute_result",
          "data": {
            "application/vnd.google.colaboratory.intrinsic+json": {
              "type": "string"
            },
            "text/plain": [
              "\"may -- might -- must -- n't -- not -- should\""
            ]
          },
          "metadata": {
            "tags": []
          },
          "execution_count": 14
        }
      ]
    },
    {
      "cell_type": "markdown",
      "metadata": {
        "id": "9lkgEpjtAcee"
      },
      "source": [
        "Lemmatization"
      ]
    },
    {
      "cell_type": "markdown",
      "metadata": {
        "id": "XA72zmKLBcQO"
      },
      "source": [
        "Part-Of-Speech (POS) Tags"
      ]
    },
    {
      "cell_type": "code",
      "metadata": {
        "colab": {
          "base_uri": "https://localhost:8080/"
        },
        "id": "AG-euowdAolN",
        "outputId": "f9c1387a-707e-46cf-948a-60956335a4a2"
      },
      "source": [
        "doc = nlp(\"She ate the pizza\")\n",
        "for token in doc:\n",
        "  print((token.text, token.pos_))"
      ],
      "execution_count": 15,
      "outputs": [
        {
          "output_type": "stream",
          "text": [
            "('She', 'PRON')\n",
            "('ate', 'VERB')\n",
            "('the', 'DET')\n",
            "('pizza', 'NOUN')\n"
          ],
          "name": "stdout"
        }
      ]
    },
    {
      "cell_type": "code",
      "metadata": {
        "colab": {
          "base_uri": "https://localhost:8080/"
        },
        "id": "_8yrGDcoBy4W",
        "outputId": "8682778e-4e3c-47c4-eac1-7229991fba98"
      },
      "source": [
        "doc = nlp(\"I heard Photograph from Nickelback yesterday!\")\n",
        "for ent in doc.ents:\n",
        "  print(ent.text, ent.label_)"
      ],
      "execution_count": 16,
      "outputs": [
        {
          "output_type": "stream",
          "text": [
            "Photograph ORG\n",
            "Nickelback GPE\n",
            "yesterday DATE\n"
          ],
          "name": "stdout"
        }
      ]
    },
    {
      "cell_type": "markdown",
      "metadata": {
        "id": "5dipv9__B9vG"
      },
      "source": [
        "Exercício: Se aplicarmos a função .lower() no texto acima, como ficam as entidades?"
      ]
    },
    {
      "cell_type": "code",
      "metadata": {
        "colab": {
          "base_uri": "https://localhost:8080/"
        },
        "id": "hzwUxC_MCCKw",
        "outputId": "2451266b-d41a-4c91-eefe-8d71260dcf0f"
      },
      "source": [
        "doc = nlp((\"I heard Photograph from Nickelback yesterday!\").lower())\n",
        "for ent in doc.ents:\n",
        "    print(ent.text, ent.label_)"
      ],
      "execution_count": 17,
      "outputs": [
        {
          "output_type": "stream",
          "text": [
            "nickelback GPE\n",
            "yesterday DATE\n"
          ],
          "name": "stdout"
        }
      ]
    },
    {
      "cell_type": "markdown",
      "metadata": {
        "id": "Ark7ZQaoCWF0"
      },
      "source": [
        "Normalização"
      ]
    },
    {
      "cell_type": "markdown",
      "metadata": {
        "id": "okOA0OWgCZdH"
      },
      "source": [
        "Etapas do pré-processamento"
      ]
    },
    {
      "cell_type": "markdown",
      "metadata": {
        "id": "YmFe6xYZCfCY"
      },
      "source": [
        "Exercício: Crie uma função preprocess que recebe uma variável do tipo string como entrada e faz todas as etapas do pré-processamento listadas abaixo.\n",
        "\n",
        "1 -Remove entidades (remove_ents);\n",
        "2 - Transforme tudo para minúscula;\n",
        "3 -Remove stopwords e pontuações (remove_stop_and_punct)."
      ]
    },
    {
      "cell_type": "code",
      "metadata": {
        "id": "IOn5GwjWCnuJ"
      },
      "source": [
        "doc = nlp(\"I heard Photograph from Nicklelback yesterday!\")"
      ],
      "execution_count": 18,
      "outputs": []
    },
    {
      "cell_type": "code",
      "metadata": {
        "colab": {
          "base_uri": "https://localhost:8080/"
        },
        "id": "d4-i2Y-ODQRm",
        "outputId": "0bd3ab8f-1a18-4e48-aba0-7d8cb8cb715c"
      },
      "source": [
        "for token in doc:\n",
        "  print(token.is_punct)"
      ],
      "execution_count": 19,
      "outputs": [
        {
          "output_type": "stream",
          "text": [
            "False\n",
            "False\n",
            "False\n",
            "False\n",
            "False\n",
            "False\n",
            "True\n"
          ],
          "name": "stdout"
        }
      ]
    },
    {
      "cell_type": "code",
      "metadata": {
        "colab": {
          "base_uri": "https://localhost:8080/"
        },
        "id": "8fsJfP31DTeY",
        "outputId": "3e72fc39-7d4e-4107-bb7e-3ff3d60aee2f"
      },
      "source": [
        "for token in doc:\n",
        "  print(token.is_stop)"
      ],
      "execution_count": 20,
      "outputs": [
        {
          "output_type": "stream",
          "text": [
            "True\n",
            "False\n",
            "False\n",
            "True\n",
            "False\n",
            "False\n",
            "False\n"
          ],
          "name": "stdout"
        }
      ]
    },
    {
      "cell_type": "code",
      "metadata": {
        "id": "TODonTK5DYaw"
      },
      "source": [
        "def remove_ents(text):\n",
        "    doc = nlp(text)\n",
        "    for ent in doc.ents:\n",
        "        text = text.replace(ent.text, '')\n",
        "    return text\n",
        "        \n",
        "def remove_stop_and_punct(text):\n",
        "    doc = nlp(text.lower())\n",
        "    tokens = []\n",
        "    for token in doc:\n",
        "        if token.is_stop or token.is_punct:\n",
        "          continue\n",
        "        tokens.append(token.text)\n",
        "    return ' '.join(tokens)\n",
        "\n",
        "def preprocess(original_text):\n",
        "    new_text = remove_ents(original_text)\n",
        "    \n",
        "    if len(new_text) == 0:\n",
        "        return new_text \n",
        "    return remove_stop_and_punct(new_text)"
      ],
      "execution_count": 22,
      "outputs": []
    },
    {
      "cell_type": "code",
      "metadata": {
        "id": "jgZ7xc-kDhtv"
      },
      "source": [
        "#Ja fizemos isso neste notebook, mas aqui teriamos que carregar esses objetos se já não estivéssemos feito ainda, \n",
        "#pois as funções estão usando-os. Porém, atenção: carregamos E alteramos o en_core_web_sm quando exluímos algumas \n",
        "#palavras da lista de stopwords, então se carregarmos novamente, temos que excluir as stopwords novamente também\n",
        "\n",
        "#nlp = English()\n",
        "#nlp = spacy.load('en_core_web_sm')"
      ],
      "execution_count": 23,
      "outputs": []
    },
    {
      "cell_type": "code",
      "metadata": {
        "colab": {
          "base_uri": "https://localhost:8080/",
          "height": 35
        },
        "id": "53dM1hniDmCX",
        "outputId": "8f5e877b-da72-4bb7-a016-d3b3dc7c9369"
      },
      "source": [
        "preprocess(\"It is also not attached to Angel, which is a cool, more romantic bar...\")"
      ],
      "execution_count": 24,
      "outputs": [
        {
          "output_type": "execute_result",
          "data": {
            "application/vnd.google.colaboratory.intrinsic+json": {
              "type": "string"
            },
            "text/plain": [
              "'not attached cool romantic bar'"
            ]
          },
          "metadata": {
            "tags": []
          },
          "execution_count": 24
        }
      ]
    },
    {
      "cell_type": "code",
      "metadata": {
        "id": "_8vnxBUBD3x-"
      },
      "source": [
        "assert(preprocess(\"It is also not attached to Angel, which is a cool, more romantic bar...\") \n",
        "       == 'not attached cool romantic bar')"
      ],
      "execution_count": 26,
      "outputs": []
    },
    {
      "cell_type": "markdown",
      "metadata": {
        "id": "EyanhSnuD9Xu"
      },
      "source": [
        "Exercício: Aplique sua função preprocess à coluna text, criando uma coluna nova norm_text, que será usada para treinarmos um modelo de análise de sentimento. Dica: Use o apply do pandas!"
      ]
    },
    {
      "cell_type": "code",
      "metadata": {
        "id": "Vv2LRuS-EAw3"
      },
      "source": [
        "data['norm_text'] = data['text'].apply(preprocess)"
      ],
      "execution_count": 27,
      "outputs": []
    },
    {
      "cell_type": "code",
      "metadata": {
        "colab": {
          "base_uri": "https://localhost:8080/",
          "height": 436
        },
        "id": "jeTYZtLaEEVD",
        "outputId": "f5e83c3e-d85d-4658-9e3b-c45e0f84ff8e"
      },
      "source": [
        "data"
      ],
      "execution_count": 28,
      "outputs": [
        {
          "output_type": "execute_result",
          "data": {
            "text/html": [
              "<div>\n",
              "<style scoped>\n",
              "    .dataframe tbody tr th:only-of-type {\n",
              "        vertical-align: middle;\n",
              "    }\n",
              "\n",
              "    .dataframe tbody tr th {\n",
              "        vertical-align: top;\n",
              "    }\n",
              "\n",
              "    .dataframe thead th {\n",
              "        text-align: right;\n",
              "    }\n",
              "</style>\n",
              "<table border=\"1\" class=\"dataframe\">\n",
              "  <thead>\n",
              "    <tr style=\"text-align: right;\">\n",
              "      <th></th>\n",
              "      <th>text</th>\n",
              "      <th>polarity</th>\n",
              "      <th>norm_text</th>\n",
              "    </tr>\n",
              "  </thead>\n",
              "  <tbody>\n",
              "    <tr>\n",
              "      <th>0</th>\n",
              "      <td>To be completely fair, the only redeeming factor was the food, which was above average, but couldn't make up for all the other deficiencies of Teodora.</td>\n",
              "      <td>negative</td>\n",
              "      <td>completely fair redeeming factor food average n't deficiencies</td>\n",
              "    </tr>\n",
              "    <tr>\n",
              "      <th>1</th>\n",
              "      <td>I loved it and would HIGHLY RECOMMEND.</td>\n",
              "      <td>positive</td>\n",
              "      <td>loved highly</td>\n",
              "    </tr>\n",
              "    <tr>\n",
              "      <th>2</th>\n",
              "      <td>Nice job!</td>\n",
              "      <td>positive</td>\n",
              "      <td>nice job</td>\n",
              "    </tr>\n",
              "    <tr>\n",
              "      <th>3</th>\n",
              "      <td>Try the lobster teriyaki and the rose special roll.</td>\n",
              "      <td>positive</td>\n",
              "      <td>try lobster teriyaki rose special roll</td>\n",
              "    </tr>\n",
              "    <tr>\n",
              "      <th>4</th>\n",
              "      <td>Can’t believe how an expensive NYC restaurant can be so disrespectful to its clients.</td>\n",
              "      <td>negative</td>\n",
              "      <td>believe expensive   restaurant disrespectful clients</td>\n",
              "    </tr>\n",
              "    <tr>\n",
              "      <th>...</th>\n",
              "      <td>...</td>\n",
              "      <td>...</td>\n",
              "      <td>...</td>\n",
              "    </tr>\n",
              "    <tr>\n",
              "      <th>77</th>\n",
              "      <td>Their tuna tartar appetizer is to die for.</td>\n",
              "      <td>positive</td>\n",
              "      <td>tuna tartar appetizer die</td>\n",
              "    </tr>\n",
              "    <tr>\n",
              "      <th>78</th>\n",
              "      <td>Make sure you try this place as often as you can.</td>\n",
              "      <td>positive</td>\n",
              "      <td>sure try place</td>\n",
              "    </tr>\n",
              "    <tr>\n",
              "      <th>79</th>\n",
              "      <td>Can't wait to go back.</td>\n",
              "      <td>positive</td>\n",
              "      <td>n't wait go</td>\n",
              "    </tr>\n",
              "    <tr>\n",
              "      <th>80</th>\n",
              "      <td>Never again!</td>\n",
              "      <td>negative</td>\n",
              "      <td></td>\n",
              "    </tr>\n",
              "    <tr>\n",
              "      <th>81</th>\n",
              "      <td>The place is the next best thing to my Moms cooking.</td>\n",
              "      <td>positive</td>\n",
              "      <td>place best thing moms cooking</td>\n",
              "    </tr>\n",
              "  </tbody>\n",
              "</table>\n",
              "<p>82 rows × 3 columns</p>\n",
              "</div>"
            ],
            "text/plain": [
              "                                                                                                                                                       text  \\\n",
              "0   To be completely fair, the only redeeming factor was the food, which was above average, but couldn't make up for all the other deficiencies of Teodora.   \n",
              "1                                                                                                                    I loved it and would HIGHLY RECOMMEND.   \n",
              "2                                                                                                                                                 Nice job!   \n",
              "3                                                                                                       Try the lobster teriyaki and the rose special roll.   \n",
              "4                                                                     Can’t believe how an expensive NYC restaurant can be so disrespectful to its clients.   \n",
              "..                                                                                                                                                      ...   \n",
              "77                                                                                                               Their tuna tartar appetizer is to die for.   \n",
              "78                                                                                                        Make sure you try this place as often as you can.   \n",
              "79                                                                                                                                   Can't wait to go back.   \n",
              "80                                                                                                                                             Never again!   \n",
              "81                                                                                                     The place is the next best thing to my Moms cooking.   \n",
              "\n",
              "    polarity                                                       norm_text  \n",
              "0   negative  completely fair redeeming factor food average n't deficiencies  \n",
              "1   positive                                                    loved highly  \n",
              "2   positive                                                        nice job  \n",
              "3   positive                          try lobster teriyaki rose special roll  \n",
              "4   negative            believe expensive   restaurant disrespectful clients  \n",
              "..       ...                                                             ...  \n",
              "77  positive                                       tuna tartar appetizer die  \n",
              "78  positive                                                  sure try place  \n",
              "79  positive                                                     n't wait go  \n",
              "80  negative                                                                  \n",
              "81  positive                                   place best thing moms cooking  \n",
              "\n",
              "[82 rows x 3 columns]"
            ]
          },
          "metadata": {
            "tags": []
          },
          "execution_count": 28
        }
      ]
    },
    {
      "cell_type": "markdown",
      "metadata": {
        "id": "GtLRp98kEZrY"
      },
      "source": [
        "Feature Engineering"
      ]
    },
    {
      "cell_type": "markdown",
      "metadata": {
        "id": "WT5eG95IEbcm"
      },
      "source": [
        "Bag of words - binária"
      ]
    },
    {
      "cell_type": "code",
      "metadata": {
        "colab": {
          "base_uri": "https://localhost:8080/",
          "height": 204
        },
        "id": "aTlikXZYEiGs",
        "outputId": "e784f4db-0800-4d73-d20e-8083a8dd1d79"
      },
      "source": [
        "examples_for_bow = [\n",
        "    'camisa preta botao botao botao',\n",
        "    'botao feito linha preta',\n",
        "    'considera-se caro preco botao camisa botao',\n",
        "    'linha costurar botão mesma camisa',\n",
        "    'costurar linha camisa mesma botao'\n",
        "]\n",
        "\n",
        "cv = CountVectorizer(strip_accents='unicode', binary=True)\n",
        "bow_matrix = cv.fit_transform(examples_for_bow)\n",
        "columns = [token[0] for token in sorted(cv.vocabulary_.items(), key=lambda item: item[1])]\n",
        "pd.DataFrame(bow_matrix.todense(), columns=columns)"
      ],
      "execution_count": 29,
      "outputs": [
        {
          "output_type": "execute_result",
          "data": {
            "text/html": [
              "<div>\n",
              "<style scoped>\n",
              "    .dataframe tbody tr th:only-of-type {\n",
              "        vertical-align: middle;\n",
              "    }\n",
              "\n",
              "    .dataframe tbody tr th {\n",
              "        vertical-align: top;\n",
              "    }\n",
              "\n",
              "    .dataframe thead th {\n",
              "        text-align: right;\n",
              "    }\n",
              "</style>\n",
              "<table border=\"1\" class=\"dataframe\">\n",
              "  <thead>\n",
              "    <tr style=\"text-align: right;\">\n",
              "      <th></th>\n",
              "      <th>botao</th>\n",
              "      <th>camisa</th>\n",
              "      <th>caro</th>\n",
              "      <th>considera</th>\n",
              "      <th>costurar</th>\n",
              "      <th>feito</th>\n",
              "      <th>linha</th>\n",
              "      <th>mesma</th>\n",
              "      <th>preco</th>\n",
              "      <th>preta</th>\n",
              "      <th>se</th>\n",
              "    </tr>\n",
              "  </thead>\n",
              "  <tbody>\n",
              "    <tr>\n",
              "      <th>0</th>\n",
              "      <td>1</td>\n",
              "      <td>1</td>\n",
              "      <td>0</td>\n",
              "      <td>0</td>\n",
              "      <td>0</td>\n",
              "      <td>0</td>\n",
              "      <td>0</td>\n",
              "      <td>0</td>\n",
              "      <td>0</td>\n",
              "      <td>1</td>\n",
              "      <td>0</td>\n",
              "    </tr>\n",
              "    <tr>\n",
              "      <th>1</th>\n",
              "      <td>1</td>\n",
              "      <td>0</td>\n",
              "      <td>0</td>\n",
              "      <td>0</td>\n",
              "      <td>0</td>\n",
              "      <td>1</td>\n",
              "      <td>1</td>\n",
              "      <td>0</td>\n",
              "      <td>0</td>\n",
              "      <td>1</td>\n",
              "      <td>0</td>\n",
              "    </tr>\n",
              "    <tr>\n",
              "      <th>2</th>\n",
              "      <td>1</td>\n",
              "      <td>1</td>\n",
              "      <td>1</td>\n",
              "      <td>1</td>\n",
              "      <td>0</td>\n",
              "      <td>0</td>\n",
              "      <td>0</td>\n",
              "      <td>0</td>\n",
              "      <td>1</td>\n",
              "      <td>0</td>\n",
              "      <td>1</td>\n",
              "    </tr>\n",
              "    <tr>\n",
              "      <th>3</th>\n",
              "      <td>1</td>\n",
              "      <td>1</td>\n",
              "      <td>0</td>\n",
              "      <td>0</td>\n",
              "      <td>1</td>\n",
              "      <td>0</td>\n",
              "      <td>1</td>\n",
              "      <td>1</td>\n",
              "      <td>0</td>\n",
              "      <td>0</td>\n",
              "      <td>0</td>\n",
              "    </tr>\n",
              "    <tr>\n",
              "      <th>4</th>\n",
              "      <td>1</td>\n",
              "      <td>1</td>\n",
              "      <td>0</td>\n",
              "      <td>0</td>\n",
              "      <td>1</td>\n",
              "      <td>0</td>\n",
              "      <td>1</td>\n",
              "      <td>1</td>\n",
              "      <td>0</td>\n",
              "      <td>0</td>\n",
              "      <td>0</td>\n",
              "    </tr>\n",
              "  </tbody>\n",
              "</table>\n",
              "</div>"
            ],
            "text/plain": [
              "   botao  camisa  caro  considera  costurar  feito  linha  mesma  preco  \\\n",
              "0      1       1     0          0         0      0      0      0      0   \n",
              "1      1       0     0          0         0      1      1      0      0   \n",
              "2      1       1     1          1         0      0      0      0      1   \n",
              "3      1       1     0          0         1      0      1      1      0   \n",
              "4      1       1     0          0         1      0      1      1      0   \n",
              "\n",
              "   preta  se  \n",
              "0      1   0  \n",
              "1      1   0  \n",
              "2      0   1  \n",
              "3      0   0  \n",
              "4      0   0  "
            ]
          },
          "metadata": {
            "tags": []
          },
          "execution_count": 29
        }
      ]
    },
    {
      "cell_type": "code",
      "metadata": {
        "colab": {
          "base_uri": "https://localhost:8080/"
        },
        "id": "-Oyq6O-XE1di",
        "outputId": "ad614fa0-773d-4b4a-bbaf-2d1a5d382eef"
      },
      "source": [
        "bow_matrix.todense()"
      ],
      "execution_count": 30,
      "outputs": [
        {
          "output_type": "execute_result",
          "data": {
            "text/plain": [
              "matrix([[1, 1, 0, 0, 0, 0, 0, 0, 0, 1, 0],\n",
              "        [1, 0, 0, 0, 0, 1, 1, 0, 0, 1, 0],\n",
              "        [1, 1, 1, 1, 0, 0, 0, 0, 1, 0, 1],\n",
              "        [1, 1, 0, 0, 1, 0, 1, 1, 0, 0, 0],\n",
              "        [1, 1, 0, 0, 1, 0, 1, 1, 0, 0, 0]])"
            ]
          },
          "metadata": {
            "tags": []
          },
          "execution_count": 30
        }
      ]
    },
    {
      "cell_type": "markdown",
      "metadata": {
        "id": "9HxdvyhkE5hY"
      },
      "source": [
        "Exercício: Use o parâmetro 'max_features' do CountVectorizer para diminuir a quantidade de dimensões e veja a diferença na matriz resultante:"
      ]
    },
    {
      "cell_type": "code",
      "metadata": {
        "colab": {
          "base_uri": "https://localhost:8080/",
          "height": 204
        },
        "id": "h_ZWOUJCE9DA",
        "outputId": "8a2dc097-25e8-4e7c-816d-148dccba6909"
      },
      "source": [
        "cv = CountVectorizer(strip_accents='unicode', binary=True, max_features=8)\n",
        "bow_matrix = cv.fit_transform(examples_for_bow)\n",
        "columns = [token[0] for token in sorted(cv.vocabulary_.items(), key=lambda item: item[1])]\n",
        "pd.DataFrame(bow_matrix.todense(), columns=columns)"
      ],
      "execution_count": 31,
      "outputs": [
        {
          "output_type": "execute_result",
          "data": {
            "text/html": [
              "<div>\n",
              "<style scoped>\n",
              "    .dataframe tbody tr th:only-of-type {\n",
              "        vertical-align: middle;\n",
              "    }\n",
              "\n",
              "    .dataframe tbody tr th {\n",
              "        vertical-align: top;\n",
              "    }\n",
              "\n",
              "    .dataframe thead th {\n",
              "        text-align: right;\n",
              "    }\n",
              "</style>\n",
              "<table border=\"1\" class=\"dataframe\">\n",
              "  <thead>\n",
              "    <tr style=\"text-align: right;\">\n",
              "      <th></th>\n",
              "      <th>botao</th>\n",
              "      <th>camisa</th>\n",
              "      <th>caro</th>\n",
              "      <th>considera</th>\n",
              "      <th>costurar</th>\n",
              "      <th>linha</th>\n",
              "      <th>mesma</th>\n",
              "      <th>preta</th>\n",
              "    </tr>\n",
              "  </thead>\n",
              "  <tbody>\n",
              "    <tr>\n",
              "      <th>0</th>\n",
              "      <td>1</td>\n",
              "      <td>1</td>\n",
              "      <td>0</td>\n",
              "      <td>0</td>\n",
              "      <td>0</td>\n",
              "      <td>0</td>\n",
              "      <td>0</td>\n",
              "      <td>1</td>\n",
              "    </tr>\n",
              "    <tr>\n",
              "      <th>1</th>\n",
              "      <td>1</td>\n",
              "      <td>0</td>\n",
              "      <td>0</td>\n",
              "      <td>0</td>\n",
              "      <td>0</td>\n",
              "      <td>1</td>\n",
              "      <td>0</td>\n",
              "      <td>1</td>\n",
              "    </tr>\n",
              "    <tr>\n",
              "      <th>2</th>\n",
              "      <td>1</td>\n",
              "      <td>1</td>\n",
              "      <td>1</td>\n",
              "      <td>1</td>\n",
              "      <td>0</td>\n",
              "      <td>0</td>\n",
              "      <td>0</td>\n",
              "      <td>0</td>\n",
              "    </tr>\n",
              "    <tr>\n",
              "      <th>3</th>\n",
              "      <td>1</td>\n",
              "      <td>1</td>\n",
              "      <td>0</td>\n",
              "      <td>0</td>\n",
              "      <td>1</td>\n",
              "      <td>1</td>\n",
              "      <td>1</td>\n",
              "      <td>0</td>\n",
              "    </tr>\n",
              "    <tr>\n",
              "      <th>4</th>\n",
              "      <td>1</td>\n",
              "      <td>1</td>\n",
              "      <td>0</td>\n",
              "      <td>0</td>\n",
              "      <td>1</td>\n",
              "      <td>1</td>\n",
              "      <td>1</td>\n",
              "      <td>0</td>\n",
              "    </tr>\n",
              "  </tbody>\n",
              "</table>\n",
              "</div>"
            ],
            "text/plain": [
              "   botao  camisa  caro  considera  costurar  linha  mesma  preta\n",
              "0      1       1     0          0         0      0      0      1\n",
              "1      1       0     0          0         0      1      0      1\n",
              "2      1       1     1          1         0      0      0      0\n",
              "3      1       1     0          0         1      1      1      0\n",
              "4      1       1     0          0         1      1      1      0"
            ]
          },
          "metadata": {
            "tags": []
          },
          "execution_count": 31
        }
      ]
    },
    {
      "cell_type": "markdown",
      "metadata": {
        "id": "znzAjFMzFFCn"
      },
      "source": [
        "Term Frequency (TF)"
      ]
    },
    {
      "cell_type": "code",
      "metadata": {
        "colab": {
          "base_uri": "https://localhost:8080/",
          "height": 204
        },
        "id": "mhujq8BIFOoe",
        "outputId": "0582ba90-5ca9-46c1-ba5d-639d2bbe1480"
      },
      "source": [
        "cv = CountVectorizer(strip_accents='unicode')\n",
        "bow_matrix = cv.fit_transform(examples_for_bow)\n",
        "columns = [token[0] for token in sorted(cv.vocabulary_.items(), key=lambda item: item[1])]\n",
        "pd.DataFrame(bow_matrix.todense(), columns=columns)"
      ],
      "execution_count": 32,
      "outputs": [
        {
          "output_type": "execute_result",
          "data": {
            "text/html": [
              "<div>\n",
              "<style scoped>\n",
              "    .dataframe tbody tr th:only-of-type {\n",
              "        vertical-align: middle;\n",
              "    }\n",
              "\n",
              "    .dataframe tbody tr th {\n",
              "        vertical-align: top;\n",
              "    }\n",
              "\n",
              "    .dataframe thead th {\n",
              "        text-align: right;\n",
              "    }\n",
              "</style>\n",
              "<table border=\"1\" class=\"dataframe\">\n",
              "  <thead>\n",
              "    <tr style=\"text-align: right;\">\n",
              "      <th></th>\n",
              "      <th>botao</th>\n",
              "      <th>camisa</th>\n",
              "      <th>caro</th>\n",
              "      <th>considera</th>\n",
              "      <th>costurar</th>\n",
              "      <th>feito</th>\n",
              "      <th>linha</th>\n",
              "      <th>mesma</th>\n",
              "      <th>preco</th>\n",
              "      <th>preta</th>\n",
              "      <th>se</th>\n",
              "    </tr>\n",
              "  </thead>\n",
              "  <tbody>\n",
              "    <tr>\n",
              "      <th>0</th>\n",
              "      <td>3</td>\n",
              "      <td>1</td>\n",
              "      <td>0</td>\n",
              "      <td>0</td>\n",
              "      <td>0</td>\n",
              "      <td>0</td>\n",
              "      <td>0</td>\n",
              "      <td>0</td>\n",
              "      <td>0</td>\n",
              "      <td>1</td>\n",
              "      <td>0</td>\n",
              "    </tr>\n",
              "    <tr>\n",
              "      <th>1</th>\n",
              "      <td>1</td>\n",
              "      <td>0</td>\n",
              "      <td>0</td>\n",
              "      <td>0</td>\n",
              "      <td>0</td>\n",
              "      <td>1</td>\n",
              "      <td>1</td>\n",
              "      <td>0</td>\n",
              "      <td>0</td>\n",
              "      <td>1</td>\n",
              "      <td>0</td>\n",
              "    </tr>\n",
              "    <tr>\n",
              "      <th>2</th>\n",
              "      <td>2</td>\n",
              "      <td>1</td>\n",
              "      <td>1</td>\n",
              "      <td>1</td>\n",
              "      <td>0</td>\n",
              "      <td>0</td>\n",
              "      <td>0</td>\n",
              "      <td>0</td>\n",
              "      <td>1</td>\n",
              "      <td>0</td>\n",
              "      <td>1</td>\n",
              "    </tr>\n",
              "    <tr>\n",
              "      <th>3</th>\n",
              "      <td>1</td>\n",
              "      <td>1</td>\n",
              "      <td>0</td>\n",
              "      <td>0</td>\n",
              "      <td>1</td>\n",
              "      <td>0</td>\n",
              "      <td>1</td>\n",
              "      <td>1</td>\n",
              "      <td>0</td>\n",
              "      <td>0</td>\n",
              "      <td>0</td>\n",
              "    </tr>\n",
              "    <tr>\n",
              "      <th>4</th>\n",
              "      <td>1</td>\n",
              "      <td>1</td>\n",
              "      <td>0</td>\n",
              "      <td>0</td>\n",
              "      <td>1</td>\n",
              "      <td>0</td>\n",
              "      <td>1</td>\n",
              "      <td>1</td>\n",
              "      <td>0</td>\n",
              "      <td>0</td>\n",
              "      <td>0</td>\n",
              "    </tr>\n",
              "  </tbody>\n",
              "</table>\n",
              "</div>"
            ],
            "text/plain": [
              "   botao  camisa  caro  considera  costurar  feito  linha  mesma  preco  \\\n",
              "0      3       1     0          0         0      0      0      0      0   \n",
              "1      1       0     0          0         0      1      1      0      0   \n",
              "2      2       1     1          1         0      0      0      0      1   \n",
              "3      1       1     0          0         1      0      1      1      0   \n",
              "4      1       1     0          0         1      0      1      1      0   \n",
              "\n",
              "   preta  se  \n",
              "0      1   0  \n",
              "1      1   0  \n",
              "2      0   1  \n",
              "3      0   0  \n",
              "4      0   0  "
            ]
          },
          "metadata": {
            "tags": []
          },
          "execution_count": 32
        }
      ]
    },
    {
      "cell_type": "markdown",
      "metadata": {
        "id": "ok1XyMs8FYKk"
      },
      "source": [
        "TF-IDF"
      ]
    },
    {
      "cell_type": "markdown",
      "metadata": {
        "id": "QWF4YgU-Fccy"
      },
      "source": [
        "Exercício: use o TfidfVectorizer para vetorizar os mesmos dados dos outros vetorizadores que estamos usando."
      ]
    },
    {
      "cell_type": "code",
      "metadata": {
        "colab": {
          "base_uri": "https://localhost:8080/",
          "height": 204
        },
        "id": "u8DWWPsyFekh",
        "outputId": "60049c89-eda2-42bc-8af1-a79a323409a7"
      },
      "source": [
        "cv = TfidfVectorizer(strip_accents='unicode')\n",
        "bow_matrix = cv.fit_transform(examples_for_bow)\n",
        "columns = [token[0] for token in sorted(cv.vocabulary_.items(), key=lambda item: item[1])]\n",
        "pd.DataFrame(bow_matrix.todense(), columns=columns)"
      ],
      "execution_count": 33,
      "outputs": [
        {
          "output_type": "execute_result",
          "data": {
            "text/html": [
              "<div>\n",
              "<style scoped>\n",
              "    .dataframe tbody tr th:only-of-type {\n",
              "        vertical-align: middle;\n",
              "    }\n",
              "\n",
              "    .dataframe tbody tr th {\n",
              "        vertical-align: top;\n",
              "    }\n",
              "\n",
              "    .dataframe thead th {\n",
              "        text-align: right;\n",
              "    }\n",
              "</style>\n",
              "<table border=\"1\" class=\"dataframe\">\n",
              "  <thead>\n",
              "    <tr style=\"text-align: right;\">\n",
              "      <th></th>\n",
              "      <th>botao</th>\n",
              "      <th>camisa</th>\n",
              "      <th>caro</th>\n",
              "      <th>considera</th>\n",
              "      <th>costurar</th>\n",
              "      <th>feito</th>\n",
              "      <th>linha</th>\n",
              "      <th>mesma</th>\n",
              "      <th>preco</th>\n",
              "      <th>preta</th>\n",
              "      <th>se</th>\n",
              "    </tr>\n",
              "  </thead>\n",
              "  <tbody>\n",
              "    <tr>\n",
              "      <th>0</th>\n",
              "      <td>0.823709</td>\n",
              "      <td>0.324630</td>\n",
              "      <td>0.000000</td>\n",
              "      <td>0.000000</td>\n",
              "      <td>0.000000</td>\n",
              "      <td>0.000000</td>\n",
              "      <td>0.000000</td>\n",
              "      <td>0.000000</td>\n",
              "      <td>0.000000</td>\n",
              "      <td>0.464887</td>\n",
              "      <td>0.000000</td>\n",
              "    </tr>\n",
              "    <tr>\n",
              "      <th>1</th>\n",
              "      <td>0.312405</td>\n",
              "      <td>0.000000</td>\n",
              "      <td>0.000000</td>\n",
              "      <td>0.000000</td>\n",
              "      <td>0.000000</td>\n",
              "      <td>0.655616</td>\n",
              "      <td>0.439074</td>\n",
              "      <td>0.000000</td>\n",
              "      <td>0.000000</td>\n",
              "      <td>0.528947</td>\n",
              "      <td>0.000000</td>\n",
              "    </tr>\n",
              "    <tr>\n",
              "      <th>2</th>\n",
              "      <td>0.416897</td>\n",
              "      <td>0.246453</td>\n",
              "      <td>0.437452</td>\n",
              "      <td>0.437452</td>\n",
              "      <td>0.000000</td>\n",
              "      <td>0.000000</td>\n",
              "      <td>0.000000</td>\n",
              "      <td>0.000000</td>\n",
              "      <td>0.437452</td>\n",
              "      <td>0.000000</td>\n",
              "      <td>0.437452</td>\n",
              "    </tr>\n",
              "    <tr>\n",
              "      <th>3</th>\n",
              "      <td>0.314554</td>\n",
              "      <td>0.371904</td>\n",
              "      <td>0.000000</td>\n",
              "      <td>0.000000</td>\n",
              "      <td>0.532586</td>\n",
              "      <td>0.000000</td>\n",
              "      <td>0.442095</td>\n",
              "      <td>0.532586</td>\n",
              "      <td>0.000000</td>\n",
              "      <td>0.000000</td>\n",
              "      <td>0.000000</td>\n",
              "    </tr>\n",
              "    <tr>\n",
              "      <th>4</th>\n",
              "      <td>0.314554</td>\n",
              "      <td>0.371904</td>\n",
              "      <td>0.000000</td>\n",
              "      <td>0.000000</td>\n",
              "      <td>0.532586</td>\n",
              "      <td>0.000000</td>\n",
              "      <td>0.442095</td>\n",
              "      <td>0.532586</td>\n",
              "      <td>0.000000</td>\n",
              "      <td>0.000000</td>\n",
              "      <td>0.000000</td>\n",
              "    </tr>\n",
              "  </tbody>\n",
              "</table>\n",
              "</div>"
            ],
            "text/plain": [
              "      botao    camisa      caro  considera  costurar     feito     linha  \\\n",
              "0  0.823709  0.324630  0.000000   0.000000  0.000000  0.000000  0.000000   \n",
              "1  0.312405  0.000000  0.000000   0.000000  0.000000  0.655616  0.439074   \n",
              "2  0.416897  0.246453  0.437452   0.437452  0.000000  0.000000  0.000000   \n",
              "3  0.314554  0.371904  0.000000   0.000000  0.532586  0.000000  0.442095   \n",
              "4  0.314554  0.371904  0.000000   0.000000  0.532586  0.000000  0.442095   \n",
              "\n",
              "      mesma     preco     preta        se  \n",
              "0  0.000000  0.000000  0.464887  0.000000  \n",
              "1  0.000000  0.000000  0.528947  0.000000  \n",
              "2  0.000000  0.437452  0.000000  0.437452  \n",
              "3  0.532586  0.000000  0.000000  0.000000  \n",
              "4  0.532586  0.000000  0.000000  0.000000  "
            ]
          },
          "metadata": {
            "tags": []
          },
          "execution_count": 33
        }
      ]
    },
    {
      "cell_type": "code",
      "metadata": {
        "colab": {
          "base_uri": "https://localhost:8080/",
          "height": 241
        },
        "id": "AhvrKZW3FoXy",
        "outputId": "836822b9-c977-4e67-8f2f-c1017317520a"
      },
      "source": [
        "cv = TfidfVectorizer(strip_accents='unicode', ngram_range=(1,2))\n",
        "bow_matrix = cv.fit_transform(examples_for_bow)\n",
        "columns = [token[0] for token in sorted(cv.vocabulary_.items(), key=lambda item: item[1])]\n",
        "pd.DataFrame(bow_matrix.todense(), columns=columns)"
      ],
      "execution_count": 34,
      "outputs": [
        {
          "output_type": "execute_result",
          "data": {
            "text/html": [
              "<div>\n",
              "<style scoped>\n",
              "    .dataframe tbody tr th:only-of-type {\n",
              "        vertical-align: middle;\n",
              "    }\n",
              "\n",
              "    .dataframe tbody tr th {\n",
              "        vertical-align: top;\n",
              "    }\n",
              "\n",
              "    .dataframe thead th {\n",
              "        text-align: right;\n",
              "    }\n",
              "</style>\n",
              "<table border=\"1\" class=\"dataframe\">\n",
              "  <thead>\n",
              "    <tr style=\"text-align: right;\">\n",
              "      <th></th>\n",
              "      <th>botao</th>\n",
              "      <th>botao botao</th>\n",
              "      <th>botao camisa</th>\n",
              "      <th>botao feito</th>\n",
              "      <th>botao mesma</th>\n",
              "      <th>camisa</th>\n",
              "      <th>camisa botao</th>\n",
              "      <th>camisa mesma</th>\n",
              "      <th>camisa preta</th>\n",
              "      <th>caro</th>\n",
              "      <th>caro preco</th>\n",
              "      <th>considera</th>\n",
              "      <th>considera se</th>\n",
              "      <th>costurar</th>\n",
              "      <th>costurar botao</th>\n",
              "      <th>costurar linha</th>\n",
              "      <th>feito</th>\n",
              "      <th>feito linha</th>\n",
              "      <th>linha</th>\n",
              "      <th>linha camisa</th>\n",
              "      <th>linha costurar</th>\n",
              "      <th>linha preta</th>\n",
              "      <th>mesma</th>\n",
              "      <th>mesma botao</th>\n",
              "      <th>mesma camisa</th>\n",
              "      <th>preco</th>\n",
              "      <th>preco botao</th>\n",
              "      <th>preta</th>\n",
              "      <th>preta botao</th>\n",
              "      <th>se</th>\n",
              "      <th>se caro</th>\n",
              "    </tr>\n",
              "  </thead>\n",
              "  <tbody>\n",
              "    <tr>\n",
              "      <th>0</th>\n",
              "      <td>0.476192</td>\n",
              "      <td>0.666229</td>\n",
              "      <td>0.000000</td>\n",
              "      <td>0.000000</td>\n",
              "      <td>0.000000</td>\n",
              "      <td>0.187671</td>\n",
              "      <td>0.000000</td>\n",
              "      <td>0.000000</td>\n",
              "      <td>0.333114</td>\n",
              "      <td>0.000000</td>\n",
              "      <td>0.000000</td>\n",
              "      <td>0.000000</td>\n",
              "      <td>0.000000</td>\n",
              "      <td>0.000000</td>\n",
              "      <td>0.000000</td>\n",
              "      <td>0.000000</td>\n",
              "      <td>0.000000</td>\n",
              "      <td>0.000000</td>\n",
              "      <td>0.00000</td>\n",
              "      <td>0.000000</td>\n",
              "      <td>0.000000</td>\n",
              "      <td>0.000000</td>\n",
              "      <td>0.000000</td>\n",
              "      <td>0.000000</td>\n",
              "      <td>0.000000</td>\n",
              "      <td>0.000000</td>\n",
              "      <td>0.000000</td>\n",
              "      <td>0.268755</td>\n",
              "      <td>0.333114</td>\n",
              "      <td>0.000000</td>\n",
              "      <td>0.000000</td>\n",
              "    </tr>\n",
              "    <tr>\n",
              "      <th>1</th>\n",
              "      <td>0.206465</td>\n",
              "      <td>0.000000</td>\n",
              "      <td>0.000000</td>\n",
              "      <td>0.433291</td>\n",
              "      <td>0.000000</td>\n",
              "      <td>0.000000</td>\n",
              "      <td>0.000000</td>\n",
              "      <td>0.000000</td>\n",
              "      <td>0.000000</td>\n",
              "      <td>0.000000</td>\n",
              "      <td>0.000000</td>\n",
              "      <td>0.000000</td>\n",
              "      <td>0.000000</td>\n",
              "      <td>0.000000</td>\n",
              "      <td>0.000000</td>\n",
              "      <td>0.000000</td>\n",
              "      <td>0.433291</td>\n",
              "      <td>0.433291</td>\n",
              "      <td>0.29018</td>\n",
              "      <td>0.000000</td>\n",
              "      <td>0.000000</td>\n",
              "      <td>0.433291</td>\n",
              "      <td>0.000000</td>\n",
              "      <td>0.000000</td>\n",
              "      <td>0.000000</td>\n",
              "      <td>0.000000</td>\n",
              "      <td>0.000000</td>\n",
              "      <td>0.349576</td>\n",
              "      <td>0.000000</td>\n",
              "      <td>0.000000</td>\n",
              "      <td>0.000000</td>\n",
              "    </tr>\n",
              "    <tr>\n",
              "      <th>2</th>\n",
              "      <td>0.284441</td>\n",
              "      <td>0.000000</td>\n",
              "      <td>0.298466</td>\n",
              "      <td>0.000000</td>\n",
              "      <td>0.000000</td>\n",
              "      <td>0.168150</td>\n",
              "      <td>0.298466</td>\n",
              "      <td>0.000000</td>\n",
              "      <td>0.000000</td>\n",
              "      <td>0.298466</td>\n",
              "      <td>0.298466</td>\n",
              "      <td>0.298466</td>\n",
              "      <td>0.298466</td>\n",
              "      <td>0.000000</td>\n",
              "      <td>0.000000</td>\n",
              "      <td>0.000000</td>\n",
              "      <td>0.000000</td>\n",
              "      <td>0.000000</td>\n",
              "      <td>0.00000</td>\n",
              "      <td>0.000000</td>\n",
              "      <td>0.000000</td>\n",
              "      <td>0.000000</td>\n",
              "      <td>0.000000</td>\n",
              "      <td>0.000000</td>\n",
              "      <td>0.000000</td>\n",
              "      <td>0.298466</td>\n",
              "      <td>0.298466</td>\n",
              "      <td>0.000000</td>\n",
              "      <td>0.000000</td>\n",
              "      <td>0.298466</td>\n",
              "      <td>0.298466</td>\n",
              "    </tr>\n",
              "    <tr>\n",
              "      <th>3</th>\n",
              "      <td>0.189923</td>\n",
              "      <td>0.000000</td>\n",
              "      <td>0.000000</td>\n",
              "      <td>0.000000</td>\n",
              "      <td>0.398574</td>\n",
              "      <td>0.224550</td>\n",
              "      <td>0.000000</td>\n",
              "      <td>0.000000</td>\n",
              "      <td>0.000000</td>\n",
              "      <td>0.000000</td>\n",
              "      <td>0.000000</td>\n",
              "      <td>0.000000</td>\n",
              "      <td>0.000000</td>\n",
              "      <td>0.321567</td>\n",
              "      <td>0.398574</td>\n",
              "      <td>0.000000</td>\n",
              "      <td>0.000000</td>\n",
              "      <td>0.000000</td>\n",
              "      <td>0.26693</td>\n",
              "      <td>0.000000</td>\n",
              "      <td>0.398574</td>\n",
              "      <td>0.000000</td>\n",
              "      <td>0.321567</td>\n",
              "      <td>0.000000</td>\n",
              "      <td>0.398574</td>\n",
              "      <td>0.000000</td>\n",
              "      <td>0.000000</td>\n",
              "      <td>0.000000</td>\n",
              "      <td>0.000000</td>\n",
              "      <td>0.000000</td>\n",
              "      <td>0.000000</td>\n",
              "    </tr>\n",
              "    <tr>\n",
              "      <th>4</th>\n",
              "      <td>0.189923</td>\n",
              "      <td>0.000000</td>\n",
              "      <td>0.000000</td>\n",
              "      <td>0.000000</td>\n",
              "      <td>0.000000</td>\n",
              "      <td>0.224550</td>\n",
              "      <td>0.000000</td>\n",
              "      <td>0.398574</td>\n",
              "      <td>0.000000</td>\n",
              "      <td>0.000000</td>\n",
              "      <td>0.000000</td>\n",
              "      <td>0.000000</td>\n",
              "      <td>0.000000</td>\n",
              "      <td>0.321567</td>\n",
              "      <td>0.000000</td>\n",
              "      <td>0.398574</td>\n",
              "      <td>0.000000</td>\n",
              "      <td>0.000000</td>\n",
              "      <td>0.26693</td>\n",
              "      <td>0.398574</td>\n",
              "      <td>0.000000</td>\n",
              "      <td>0.000000</td>\n",
              "      <td>0.321567</td>\n",
              "      <td>0.398574</td>\n",
              "      <td>0.000000</td>\n",
              "      <td>0.000000</td>\n",
              "      <td>0.000000</td>\n",
              "      <td>0.000000</td>\n",
              "      <td>0.000000</td>\n",
              "      <td>0.000000</td>\n",
              "      <td>0.000000</td>\n",
              "    </tr>\n",
              "  </tbody>\n",
              "</table>\n",
              "</div>"
            ],
            "text/plain": [
              "      botao  botao botao  botao camisa  botao feito  botao mesma    camisa  \\\n",
              "0  0.476192     0.666229      0.000000     0.000000     0.000000  0.187671   \n",
              "1  0.206465     0.000000      0.000000     0.433291     0.000000  0.000000   \n",
              "2  0.284441     0.000000      0.298466     0.000000     0.000000  0.168150   \n",
              "3  0.189923     0.000000      0.000000     0.000000     0.398574  0.224550   \n",
              "4  0.189923     0.000000      0.000000     0.000000     0.000000  0.224550   \n",
              "\n",
              "   camisa botao  camisa mesma  camisa preta      caro  caro preco  considera  \\\n",
              "0      0.000000      0.000000      0.333114  0.000000    0.000000   0.000000   \n",
              "1      0.000000      0.000000      0.000000  0.000000    0.000000   0.000000   \n",
              "2      0.298466      0.000000      0.000000  0.298466    0.298466   0.298466   \n",
              "3      0.000000      0.000000      0.000000  0.000000    0.000000   0.000000   \n",
              "4      0.000000      0.398574      0.000000  0.000000    0.000000   0.000000   \n",
              "\n",
              "   considera se  costurar  costurar botao  costurar linha     feito  \\\n",
              "0      0.000000  0.000000        0.000000        0.000000  0.000000   \n",
              "1      0.000000  0.000000        0.000000        0.000000  0.433291   \n",
              "2      0.298466  0.000000        0.000000        0.000000  0.000000   \n",
              "3      0.000000  0.321567        0.398574        0.000000  0.000000   \n",
              "4      0.000000  0.321567        0.000000        0.398574  0.000000   \n",
              "\n",
              "   feito linha    linha  linha camisa  linha costurar  linha preta     mesma  \\\n",
              "0     0.000000  0.00000      0.000000        0.000000     0.000000  0.000000   \n",
              "1     0.433291  0.29018      0.000000        0.000000     0.433291  0.000000   \n",
              "2     0.000000  0.00000      0.000000        0.000000     0.000000  0.000000   \n",
              "3     0.000000  0.26693      0.000000        0.398574     0.000000  0.321567   \n",
              "4     0.000000  0.26693      0.398574        0.000000     0.000000  0.321567   \n",
              "\n",
              "   mesma botao  mesma camisa     preco  preco botao     preta  preta botao  \\\n",
              "0     0.000000      0.000000  0.000000     0.000000  0.268755     0.333114   \n",
              "1     0.000000      0.000000  0.000000     0.000000  0.349576     0.000000   \n",
              "2     0.000000      0.000000  0.298466     0.298466  0.000000     0.000000   \n",
              "3     0.000000      0.398574  0.000000     0.000000  0.000000     0.000000   \n",
              "4     0.398574      0.000000  0.000000     0.000000  0.000000     0.000000   \n",
              "\n",
              "         se   se caro  \n",
              "0  0.000000  0.000000  \n",
              "1  0.000000  0.000000  \n",
              "2  0.298466  0.298466  \n",
              "3  0.000000  0.000000  \n",
              "4  0.000000  0.000000  "
            ]
          },
          "metadata": {
            "tags": []
          },
          "execution_count": 34
        }
      ]
    },
    {
      "cell_type": "code",
      "metadata": {
        "colab": {
          "base_uri": "https://localhost:8080/"
        },
        "id": "Y9WbYM4GGA5a",
        "outputId": "bb5ad951-c534-4796-f700-2228ff647fda"
      },
      "source": [
        "pd.DataFrame(bow_matrix.todense(), columns=columns).shape"
      ],
      "execution_count": 35,
      "outputs": [
        {
          "output_type": "execute_result",
          "data": {
            "text/plain": [
              "(5, 31)"
            ]
          },
          "metadata": {
            "tags": []
          },
          "execution_count": 35
        }
      ]
    },
    {
      "cell_type": "markdown",
      "metadata": {
        "id": "hVO2rEYHGiGL"
      },
      "source": [
        "Modelo"
      ]
    },
    {
      "cell_type": "code",
      "metadata": {
        "id": "0QSCzmrUGlFG"
      },
      "source": [
        "# Dividindo x e y\n",
        "x = data.norm_text\n",
        "y = data.polarity\n",
        "\n",
        "# Dividindo dados para treino e dados para teste\n",
        "x_train, x_test, y_train, y_test = train_test_split(x, y, test_size=0.3, random_state=42)"
      ],
      "execution_count": 36,
      "outputs": []
    },
    {
      "cell_type": "code",
      "metadata": {
        "id": "Cr6XoPjrGqHv"
      },
      "source": [
        "steps = [\n",
        "    ('vect', CountVectorizer(max_features=200, binary=True)),\n",
        "    ('clf', DecisionTreeClassifier(class_weight='balanced', max_depth=5, random_state = 42))\n",
        "]\n",
        "\n",
        "pipeline = Pipeline(steps)\n",
        "\n",
        "sentiment_analyzer = pipeline.fit(x_train, y_train)"
      ],
      "execution_count": 37,
      "outputs": []
    },
    {
      "cell_type": "code",
      "metadata": {
        "colab": {
          "base_uri": "https://localhost:8080/"
        },
        "id": "GHMLVeyhGwo5",
        "outputId": "ff2b6b07-48ab-4bbc-dc75-3f7a5739f9c8"
      },
      "source": [
        "sentiment_analyzer.predict([preprocess(\"It's also attached to Angel's Share, which is a cool, more romantic bar...\")])"
      ],
      "execution_count": 38,
      "outputs": [
        {
          "output_type": "execute_result",
          "data": {
            "text/plain": [
              "array(['positive'], dtype=object)"
            ]
          },
          "metadata": {
            "tags": []
          },
          "execution_count": 38
        }
      ]
    },
    {
      "cell_type": "code",
      "metadata": {
        "colab": {
          "base_uri": "https://localhost:8080/",
          "height": 283
        },
        "id": "A6JQA3yCG1HR",
        "outputId": "ed4da294-346f-4a3a-b6e9-a8f90bc3f650"
      },
      "source": [
        "y_pred = sentiment_analyzer.predict(x_test)\n",
        "plot_confusion_matrix(sentiment_analyzer, x_test, y_test, cmap='Blues');"
      ],
      "execution_count": 39,
      "outputs": [
        {
          "output_type": "display_data",
          "data": {
            "image/png": "[encoded data removed]",
            "text/plain": [
              "<Figure size 432x288 with 2 Axes>"
            ]
          },
          "metadata": {
            "tags": [],
            "needs_background": "light"
          }
        }
      ]
    },
    {
      "cell_type": "markdown",
      "metadata": {
        "id": "qgUkUkHFG6oE"
      },
      "source": [
        "Será que está ocorrendo overfitting? Vamos ver as medidas para o conjunto de treinamento"
      ]
    },
    {
      "cell_type": "code",
      "metadata": {
        "colab": {
          "base_uri": "https://localhost:8080/",
          "height": 279
        },
        "id": "I0y8K1Y-G9xx",
        "outputId": "dab14e4f-e695-4c0a-cb72-b5c0cf844be9"
      },
      "source": [
        "plot_confusion_matrix(sentiment_analyzer, x_train, y_train, cmap='Blues');"
      ],
      "execution_count": 40,
      "outputs": [
        {
          "output_type": "display_data",
          "data": {
            "image/png": "[encoded data removed]",
            "text/plain": [
              "<Figure size 432x288 with 2 Axes>"
            ]
          },
          "metadata": {
            "tags": [],
            "needs_background": "light"
          }
        }
      ]
    },
    {
      "cell_type": "code",
      "metadata": {
        "colab": {
          "base_uri": "https://localhost:8080/"
        },
        "id": "c4ebC1WMHEz_",
        "outputId": "7108f93d-bf3c-4402-85c1-493636975c91"
      },
      "source": [
        "data.polarity.value_counts()"
      ],
      "execution_count": 41,
      "outputs": [
        {
          "output_type": "execute_result",
          "data": {
            "text/plain": [
              "positive    59\n",
              "negative    23\n",
              "Name: polarity, dtype: int64"
            ]
          },
          "metadata": {
            "tags": []
          },
          "execution_count": 41
        }
      ]
    }
  ]
}